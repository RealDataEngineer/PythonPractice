{
  "nbformat": 4,
  "nbformat_minor": 0,
  "metadata": {
    "colab": {
      "name": "PythonBrushup.ipynb",
      "provenance": [],
      "collapsed_sections": [],
      "authorship_tag": "ABX9TyO7yBegzNrAOXOM0CuUTRCE",
      "include_colab_link": true
    },
    "kernelspec": {
      "name": "python3",
      "display_name": "Python 3"
    },
    "language_info": {
      "name": "python"
    }
  },
  "cells": [
    {
      "cell_type": "markdown",
      "metadata": {
        "id": "view-in-github",
        "colab_type": "text"
      },
      "source": [
        "<a href=\"https://colab.research.google.com/github/RealDataEngineer/PythonPractice/blob/main/PythonBrushup.ipynb\" target=\"_parent\"><img src=\"https://colab.research.google.com/assets/colab-badge.svg\" alt=\"Open In Colab\"/></a>"
      ]
    },
    {
      "cell_type": "code",
      "execution_count": 7,
      "metadata": {
        "colab": {
          "base_uri": "https://localhost:8080/"
        },
        "id": "Ii0UrqlUB1Rl",
        "outputId": "f1c58b95-e621-4039-a1fa-2c20c257f12f"
      },
      "outputs": [
        {
          "output_type": "stream",
          "name": "stdout",
          "text": [
            "1\n",
            "<class 'int'>\n",
            "<class 'bool'>\n",
            "<class 'float'>\n",
            "<class 'str'>\n",
            "<class 'str'>\n"
          ]
        }
      ],
      "source": [
        "#datatypes\n",
        "i=1\n",
        "print(i)\n",
        "print(type(i))  \n",
        "i=True\n",
        "print(type(i)) \n",
        "i=1.2\n",
        "print(type(i))  \n",
        "i=\"Raghu\"\n",
        "print(type(i))  \n",
        "i='Praveen'\n",
        "print(type(i))  "
      ]
    },
    {
      "cell_type": "code",
      "source": [
        "num=5\n",
        "str_num = str(num)\n",
        "print(type(num))\n",
        "print(type(str_num))    "
      ],
      "metadata": {
        "colab": {
          "base_uri": "https://localhost:8080/"
        },
        "id": "0U-d7toRKh7I",
        "outputId": "6e320789-bade-464e-9577-13a7e4870c11"
      },
      "execution_count": 8,
      "outputs": [
        {
          "output_type": "stream",
          "name": "stdout",
          "text": [
            "<class 'int'>\n",
            "<class 'str'>\n"
          ]
        }
      ]
    },
    {
      "cell_type": "code",
      "source": [
        "print((bool(0)))  \n",
        "print((bool(1)))  \n",
        "print((bool(3)))  \n",
        "print((bool(0.0001)))  \n",
        "print((bool(\"Raghu\")))  "
      ],
      "metadata": {
        "colab": {
          "base_uri": "https://localhost:8080/"
        },
        "id": "8lmekQHpKhxz",
        "outputId": "e345be6b-0833-461a-b2a6-12517c8ba93d"
      },
      "execution_count": 12,
      "outputs": [
        {
          "output_type": "stream",
          "name": "stdout",
          "text": [
            "False\n",
            "True\n",
            "True\n",
            "True\n",
            "True\n"
          ]
        }
      ]
    },
    {
      "cell_type": "code",
      "source": [
        "print(int(0.51))\n",
        "print(int(\"0\"))\n",
        "print(int(True))\n",
        "print(float(True))"
      ],
      "metadata": {
        "colab": {
          "base_uri": "https://localhost:8080/"
        },
        "id": "JiXT5RI3MFVK",
        "outputId": "5ab5012b-0fd7-45fb-954b-260093c6adf4"
      },
      "execution_count": 18,
      "outputs": [
        {
          "output_type": "stream",
          "name": "stdout",
          "text": [
            "0\n",
            "0\n",
            "1\n",
            "1.0\n"
          ]
        }
      ]
    },
    {
      "cell_type": "code",
      "source": [
        "xPos=5\n",
        "print(xPos ** 2)\n",
        "print(xPos // 2)\n",
        "print(xPos / 2)\n",
        "print(xPos % 2)\n"
      ],
      "metadata": {
        "colab": {
          "base_uri": "https://localhost:8080/"
        },
        "id": "Q5iB95jSPsQB",
        "outputId": "ef5afc5b-b95f-4ab1-b794-27ca5b6bed7e"
      },
      "execution_count": 20,
      "outputs": [
        {
          "output_type": "stream",
          "name": "stdout",
          "text": [
            "25\n",
            "2\n",
            "2.5\n",
            "1\n"
          ]
        }
      ]
    },
    {
      "cell_type": "code",
      "source": [
        "fname=\"Raghu\"\n",
        "lname=\"praveen\"\n",
        "print(fname+\" \"+lname)"
      ],
      "metadata": {
        "colab": {
          "base_uri": "https://localhost:8080/"
        },
        "id": "r2fSwv98QAdT",
        "outputId": "df65dd64-025e-4c39-e5e6-14638ba08485"
      },
      "execution_count": 22,
      "outputs": [
        {
          "output_type": "stream",
          "name": "stdout",
          "text": [
            "Raghu praveen\n"
          ]
        }
      ]
    }
  ]
}
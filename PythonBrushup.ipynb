{
  "nbformat": 4,
  "nbformat_minor": 0,
  "metadata": {
    "colab": {
      "name": "PythonBrushup.ipynb",
      "provenance": [],
      "collapsed_sections": [],
      "authorship_tag": "ABX9TyPYZpa2/PBOBZ540c3ZaJkB",
      "include_colab_link": true
    },
    "kernelspec": {
      "name": "python3",
      "display_name": "Python 3"
    },
    "language_info": {
      "name": "python"
    }
  },
  "cells": [
    {
      "cell_type": "markdown",
      "metadata": {
        "id": "view-in-github",
        "colab_type": "text"
      },
      "source": [
        "<a href=\"https://colab.research.google.com/github/RealDataEngineer/PythonPractice/blob/main/PythonBrushup.ipynb\" target=\"_parent\"><img src=\"https://colab.research.google.com/assets/colab-badge.svg\" alt=\"Open In Colab\"/></a>"
      ]
    },
    {
      "cell_type": "code",
      "execution_count": null,
      "metadata": {
        "colab": {
          "base_uri": "https://localhost:8080/"
        },
        "id": "Ii0UrqlUB1Rl",
        "outputId": "c182836b-e6d0-429c-e4bb-c39a24833589"
      },
      "outputs": [
        {
          "output_type": "stream",
          "name": "stdout",
          "text": [
            "1\n",
            "<class 'int'>\n",
            "<class 'bool'>\n",
            "<class 'float'>\n",
            "<class 'str'>\n",
            "<class 'str'>\n"
          ]
        }
      ],
      "source": [
        "#datatypes\n",
        "i=1\n",
        "print(i)\n",
        "print(type(i))  \n",
        "i=True\n",
        "print(type(i)) \n",
        "i=1.2\n",
        "print(type(i))  \n",
        "i=\"Raghu\"\n",
        "print(type(i))  \n",
        "i='Praveen'\n",
        "print(type(i))  "
      ]
    },
    {
      "cell_type": "code",
      "source": [
        "num=5\n",
        "str_num = str(num)\n",
        "print(type(num))\n",
        "print(type(str_num))    "
      ],
      "metadata": {
        "colab": {
          "base_uri": "https://localhost:8080/"
        },
        "id": "0U-d7toRKh7I",
        "outputId": "a9757c3a-8722-4940-f1b3-4e4ece4fcdce"
      },
      "execution_count": null,
      "outputs": [
        {
          "output_type": "stream",
          "name": "stdout",
          "text": [
            "<class 'int'>\n",
            "<class 'str'>\n"
          ]
        }
      ]
    },
    {
      "cell_type": "code",
      "source": [
        "print((bool(0)))  \n",
        "print((bool(1)))  \n",
        "print((bool(3)))  \n",
        "print((bool(0.0001)))  \n",
        "print((bool(\"Raghu\")))  "
      ],
      "metadata": {
        "colab": {
          "base_uri": "https://localhost:8080/"
        },
        "id": "8lmekQHpKhxz",
        "outputId": "1acd1634-4f63-45af-bd3c-7286016bf744"
      },
      "execution_count": null,
      "outputs": [
        {
          "output_type": "stream",
          "name": "stdout",
          "text": [
            "False\n",
            "True\n",
            "True\n",
            "True\n",
            "True\n"
          ]
        }
      ]
    },
    {
      "cell_type": "code",
      "source": [
        "print(int(0.51))\n",
        "print(int(\"0\"))\n",
        "print(int(True))\n",
        "print(float(True))"
      ],
      "metadata": {
        "colab": {
          "base_uri": "https://localhost:8080/"
        },
        "id": "JiXT5RI3MFVK",
        "outputId": "c6270bb3-b440-41bd-a2e3-595a2fe5e3c4"
      },
      "execution_count": null,
      "outputs": [
        {
          "output_type": "stream",
          "name": "stdout",
          "text": [
            "0\n",
            "0\n",
            "1\n",
            "1.0\n"
          ]
        }
      ]
    },
    {
      "cell_type": "code",
      "source": [
        "xPos=5\n",
        "print(xPos ** 2)\n",
        "print(xPos // 2)\n",
        "print(xPos / 2)\n",
        "print(xPos % 2)\n"
      ],
      "metadata": {
        "colab": {
          "base_uri": "https://localhost:8080/"
        },
        "id": "Q5iB95jSPsQB",
        "outputId": "48a61768-6bc5-4945-adbc-b056a504c753"
      },
      "execution_count": null,
      "outputs": [
        {
          "output_type": "stream",
          "name": "stdout",
          "text": [
            "25\n",
            "2\n",
            "2.5\n",
            "1\n"
          ]
        }
      ]
    },
    {
      "cell_type": "code",
      "source": [
        "fname=\"Raghu\"\n",
        "lname=\"praveen\"\n",
        "print(fname+\" \"+lname)"
      ],
      "metadata": {
        "colab": {
          "base_uri": "https://localhost:8080/"
        },
        "id": "r2fSwv98QAdT",
        "outputId": "01cd0c33-92eb-48d5-a6d1-e4221da81d8c"
      },
      "execution_count": null,
      "outputs": [
        {
          "output_type": "stream",
          "name": "stdout",
          "text": [
            "Raghu praveen\n"
          ]
        }
      ]
    },
    {
      "cell_type": "code",
      "source": [
        "#@title Raghu\n",
        "#Always True\n",
        "# > < >= <= == !=\n",
        "print(5==4)\n",
        "print(4!=4.0)\n",
        "print('a' == \"A\")"
      ],
      "metadata": {
        "colab": {
          "base_uri": "https://localhost:8080/"
        },
        "id": "UvMlwzzFRSXw",
        "outputId": "0d263b80-1d1e-42d9-e1aa-8a0fef2a1b29"
      },
      "execution_count": null,
      "outputs": [
        {
          "output_type": "stream",
          "name": "stdout",
          "text": [
            "False\n",
            "False\n",
            "False\n"
          ]
        }
      ]
    },
    {
      "cell_type": "code",
      "source": [
        "is_true = True\n",
        "print(is_true)\n",
        "is_true = not is_true\n",
        "print(is_true)"
      ],
      "metadata": {
        "colab": {
          "base_uri": "https://localhost:8080/"
        },
        "id": "ryoHWZeRTRWv",
        "outputId": "67dd48b8-48c6-4ca4-b699-0dbd27e1daff"
      },
      "execution_count": null,
      "outputs": [
        {
          "output_type": "stream",
          "name": "stdout",
          "text": [
            "True\n",
            "False\n"
          ]
        }
      ]
    },
    {
      "cell_type": "markdown",
      "source": [
        "Collections Start"
      ],
      "metadata": {
        "id": "19J4BoZAW2-h"
      }
    },
    {
      "cell_type": "code",
      "source": [
        "#Lists\n",
        "inventory = ['Sword','bread','boots']\n",
        "print(inventory)\n",
        "Sword = (inventory[0])\n",
        "inventory[1] = 'Apples'\n",
        "print(inventory)\n",
        "print(len(inventory))\n",
        "print(max(inventory))\n",
        "inventory[2]='Boots'\n",
        "print(inventory)\n",
        "print(max(inventory))\n",
        "inventory.append('Hat')\n",
        "print(inventory)\n",
        "inventory.insert(0,'Knife')\n",
        "print(inventory)\n",
        "inventory.pop() # last item is removed\n",
        "print(inventory)\n",
        "inventory.remove('Boots')\n",
        "print(inventory)\n",
        "inventory.pop(1)\n",
        "print(inventory)"
      ],
      "metadata": {
        "id": "2KU9d0b1RzKZ",
        "colab": {
          "base_uri": "https://localhost:8080/"
        },
        "outputId": "2b46c2bb-8ffa-443f-df51-54a4aff7e925"
      },
      "execution_count": null,
      "outputs": [
        {
          "output_type": "stream",
          "name": "stdout",
          "text": [
            "['Sword', 'bread', 'boots']\n",
            "['Sword', 'Apples', 'boots']\n",
            "3\n",
            "boots\n",
            "['Sword', 'Apples', 'Boots']\n",
            "Sword\n",
            "['Sword', 'Apples', 'Boots', 'Hat']\n",
            "['Knife', 'Sword', 'Apples', 'Boots', 'Hat']\n",
            "['Knife', 'Sword', 'Apples', 'Boots']\n",
            "['Knife', 'Sword', 'Apples']\n",
            "['Knife', 'Apples']\n"
          ]
        }
      ]
    },
    {
      "cell_type": "code",
      "source": [
        "#2DimensionLists\n",
        "test_2DList = [[1,2,3,4],[1,2],[1,2,5]]\n",
        "print(test_2DList[2][2])\n",
        "test_2DList.append([1,2,5,8])\n",
        "test_2DList\n",
        "print(test_2DList)\n",
        "test_2DList[2].pop(0)\n",
        "print(test_2DList)"
      ],
      "metadata": {
        "colab": {
          "base_uri": "https://localhost:8080/"
        },
        "id": "MZvb-6NhaTC9",
        "outputId": "df510165-4609-44a3-a112-691913c858de"
      },
      "execution_count": null,
      "outputs": [
        {
          "output_type": "stream",
          "name": "stdout",
          "text": [
            "5\n",
            "[[1, 2, 3, 4], [1, 2], [1, 2, 5], [1, 2, 5, 8]]\n",
            "[[1, 2, 3, 4], [1, 2], [2, 5], [1, 2, 5, 8]]\n"
          ]
        }
      ]
    },
    {
      "cell_type": "code",
      "source": [
        "#Tuples\n",
        "item = (\"Raghu4\",'4',5,[\"k\",\"l\",7],'4')\n",
        "print(item.count('4')) # gives count\n",
        "print(item.index('4')) # gives first position\n",
        "item = (\"Praveen\")\n",
        "print(item)\n",
        "item.count('Praveen')\n"
      ],
      "metadata": {
        "colab": {
          "base_uri": "https://localhost:8080/"
        },
        "id": "xsUBNfU3brPu",
        "outputId": "f315aad9-e5a1-4907-a40d-67f90d2cfdc6"
      },
      "execution_count": null,
      "outputs": [
        {
          "output_type": "stream",
          "name": "stdout",
          "text": [
            "2\n",
            "1\n",
            "Praveen\n"
          ]
        },
        {
          "output_type": "execute_result",
          "data": {
            "text/plain": [
              "1"
            ]
          },
          "metadata": {},
          "execution_count": 21
        }
      ]
    },
    {
      "cell_type": "code",
      "source": [
        "#Dict - KV Pair\n",
        "inventory = {'Raghu':'Speed','Praveen':'Expert'}\n",
        "print(inventory)\n",
        "inventory['Raghu'] = 'Quick'\n",
        "inventory['Quick'] = 'Swift'\n",
        "print(inventory['Praveen'])\n",
        "print(inventory.get('Praveen')) # key fails prog if no such Key exists, so get is best way to check\n",
        "print(inventory.keys())\n",
        "print(inventory.values())\n",
        "print(max(inventory))"
      ],
      "metadata": {
        "colab": {
          "base_uri": "https://localhost:8080/"
        },
        "id": "vDyWzZ3qfHTk",
        "outputId": "26fe6be1-c762-4436-a9ab-b64f4d2157a4"
      },
      "execution_count": null,
      "outputs": [
        {
          "output_type": "stream",
          "name": "stdout",
          "text": [
            "{'Raghu': 'Speed', 'Praveen': 'Expert'}\n",
            "Expert\n",
            "Expert\n",
            "dict_keys(['Raghu', 'Praveen', 'Quick'])\n",
            "dict_values(['Quick', 'Expert', 'Swift'])\n",
            "Raghu\n"
          ]
        }
      ]
    },
    {
      "cell_type": "code",
      "source": [
        "#Ranges\n",
        "odd_range = range(1,21,2)\n",
        "even_range = range(0,21,2)\n",
        "print(odd_range[9])\n",
        "print(even_range[10])\n",
        "reversed_even = reversed(even_range)\n",
        "reversed_even = list(reversed_even)\n",
        "print(reversed_even)\n",
        "print(15 in reversed_even) # condition check "
      ],
      "metadata": {
        "colab": {
          "base_uri": "https://localhost:8080/"
        },
        "id": "wEih9RXOiR6C",
        "outputId": "dec8baaf-7c56-4d9e-e4cb-3ee68db6f6a2"
      },
      "execution_count": null,
      "outputs": [
        {
          "output_type": "stream",
          "name": "stdout",
          "text": [
            "19\n",
            "20\n",
            "[20, 18, 16, 14, 12, 10, 8, 6, 4, 2, 0]\n",
            "False\n"
          ]
        }
      ]
    },
    {
      "cell_type": "markdown",
      "source": [
        "Conditonal Flow"
      ],
      "metadata": {
        "id": "S9SYtGNDn5Qc"
      }
    },
    {
      "cell_type": "code",
      "source": [
        "#if elfi\n",
        "var = 'asd'\n",
        "if var == 'r' or var == 'asd':\n",
        "  print(\"True\")\n",
        "elif var == 'f':\n",
        "  print(\"False\")\n",
        "else:\n",
        "  print(\"Invalid i/p\")"
      ],
      "metadata": {
        "colab": {
          "base_uri": "https://localhost:8080/"
        },
        "id": "jpG7WneBn8RB",
        "outputId": "5b9b6f36-eb2d-47d1-f943-42e215aa44a8"
      },
      "execution_count": null,
      "outputs": [
        {
          "output_type": "stream",
          "name": "stdout",
          "text": [
            "True\n"
          ]
        }
      ]
    },
    {
      "cell_type": "code",
      "source": [
        "# loops while - no set number of times - based on conditions\n",
        "\n",
        "x_pos= 1\n",
        "y_pos = 0\n",
        "enemy_pos = 3\n",
        "end_pos = 5\n",
        "while x_pos < end_pos:\n",
        "  x_pos+=1\n",
        "  print(x_pos)\n",
        "  if y_pos > 0:\n",
        "    continue\n",
        "  if x_pos == enemy_pos:\n",
        "    print(\"Collision\")\n",
        "    break\n",
        "print(\"Game Over\")\n"
      ],
      "metadata": {
        "colab": {
          "base_uri": "https://localhost:8080/"
        },
        "id": "l9LcWidwoWvl",
        "outputId": "052d740d-5907-4f79-ece9-c7311a7be415"
      },
      "execution_count": null,
      "outputs": [
        {
          "output_type": "stream",
          "name": "stdout",
          "text": [
            "2\n",
            "3\n",
            "Collision\n",
            "Game Over\n"
          ]
        }
      ]
    },
    {
      "cell_type": "code",
      "source": [
        "#loops for - set number of times execution\n",
        "for var in inventory:\n",
        "  if var != 'Quick':\n",
        "    print(\"continue\")\n",
        "    continue\n",
        "  if var == 'Quick':\n",
        "    print(\"break\")\n",
        "    break\n",
        "  if var != 'Quick':\n",
        "    continue\n",
        "  print(var)\n",
        "  print(inventory[var])"
      ],
      "metadata": {
        "colab": {
          "base_uri": "https://localhost:8080/"
        },
        "id": "edRsh7YDpuqy",
        "outputId": "8efdc90f-6b8c-4896-df3d-6296231a8ec2"
      },
      "execution_count": null,
      "outputs": [
        {
          "output_type": "stream",
          "name": "stdout",
          "text": [
            "continue\n",
            "continue\n",
            "break\n"
          ]
        }
      ]
    },
    {
      "cell_type": "code",
      "source": [
        "var = 5\n",
        "def move():\n",
        "  global var\n",
        "  print(var)\n",
        "  var+=1\n",
        "  print(var)\n",
        "\n",
        "move()\n",
        "print(var)"
      ],
      "metadata": {
        "colab": {
          "base_uri": "https://localhost:8080/"
        },
        "id": "LudCWG5hGKde",
        "outputId": "ca9b8e0f-10e0-4361-d83e-faffa0d5a467"
      },
      "execution_count": null,
      "outputs": [
        {
          "output_type": "stream",
          "name": "stdout",
          "text": [
            "5\n",
            "6\n",
            "6\n"
          ]
        }
      ]
    },
    {
      "cell_type": "code",
      "source": [
        "var = 5\n",
        "def move(positions=1):\n",
        "  global var\n",
        "  print(var)\n",
        "  var+=positions\n",
        "  print(var)\n",
        "\n",
        "move()\n",
        "move(5)"
      ],
      "metadata": {
        "colab": {
          "base_uri": "https://localhost:8080/"
        },
        "id": "Umzv1O2bH-KB",
        "outputId": "973d91f7-a9cf-4abc-d61e-919a2e75701b"
      },
      "execution_count": null,
      "outputs": [
        {
          "output_type": "stream",
          "name": "stdout",
          "text": [
            "5\n",
            "6\n",
            "6\n",
            "11\n"
          ]
        }
      ]
    },
    {
      "cell_type": "code",
      "source": [
        "start_pos = 0\n",
        "end_pos = 10\n",
        "\n",
        "def move(x_pos = 0,by_amt=1):\n",
        "  global start_pos,end_pos\n",
        "  x_pos += by_amt\n",
        "  if x_pos < start_pos:\n",
        "    print(\"min reached!! setting to min\")\n",
        "    return start_pos # returning back min possible in range movement\n",
        "  elif x_pos> end_pos:\n",
        "    print(\"max reached!! setting to max\")\n",
        "    return end_pos # returning back max possible in range movement\n",
        "  return x_pos\n",
        "\n",
        "move()"
      ],
      "metadata": {
        "colab": {
          "base_uri": "https://localhost:8080/"
        },
        "id": "kmJYndc9Lzs5",
        "outputId": "726d4800-8552-44b5-e7d2-e49597b017bd"
      },
      "execution_count": null,
      "outputs": [
        {
          "output_type": "execute_result",
          "data": {
            "text/plain": [
              "1"
            ]
          },
          "metadata": {},
          "execution_count": 38
        }
      ]
    }
  ]
}
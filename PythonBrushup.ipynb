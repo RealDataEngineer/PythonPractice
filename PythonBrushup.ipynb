{
  "nbformat": 4,
  "nbformat_minor": 0,
  "metadata": {
    "colab": {
      "name": "PythonBrushup.ipynb",
      "provenance": [],
      "collapsed_sections": [],
      "authorship_tag": "ABX9TyNbPE1d1npGiFodKLBw3Phb",
      "include_colab_link": true
    },
    "kernelspec": {
      "name": "python3",
      "display_name": "Python 3"
    },
    "language_info": {
      "name": "python"
    }
  },
  "cells": [
    {
      "cell_type": "markdown",
      "metadata": {
        "id": "view-in-github",
        "colab_type": "text"
      },
      "source": [
        "<a href=\"https://colab.research.google.com/github/RealDataEngineer/PythonPractice/blob/main/PythonBrushup.ipynb\" target=\"_parent\"><img src=\"https://colab.research.google.com/assets/colab-badge.svg\" alt=\"Open In Colab\"/></a>"
      ]
    },
    {
      "cell_type": "code",
      "execution_count": null,
      "metadata": {
        "colab": {
          "base_uri": "https://localhost:8080/"
        },
        "id": "Ii0UrqlUB1Rl",
        "outputId": "b640e43b-6b0d-40ce-f597-702c712a175f"
      },
      "outputs": [
        {
          "output_type": "stream",
          "name": "stdout",
          "text": [
            "1\n",
            "<class 'int'>\n",
            "<class 'bool'>\n",
            "<class 'float'>\n",
            "<class 'str'>\n",
            "<class 'str'>\n"
          ]
        }
      ],
      "source": [
        "#datatypes\n",
        "i=1\n",
        "print(i)\n",
        "print(type(i))  \n",
        "i=True\n",
        "print(type(i)) \n",
        "i=1.2\n",
        "print(type(i))  \n",
        "i=\"Raghu\"\n",
        "print(type(i))  \n",
        "i='Praveen'\n",
        "print(type(i))  "
      ]
    },
    {
      "cell_type": "code",
      "source": [
        "num=5\n",
        "str_num = str(num)\n",
        "print(type(num))\n",
        "print(type(str_num))    "
      ],
      "metadata": {
        "colab": {
          "base_uri": "https://localhost:8080/"
        },
        "id": "0U-d7toRKh7I",
        "outputId": "9015272c-e59e-4f64-8056-7828810c8cd8"
      },
      "execution_count": null,
      "outputs": [
        {
          "output_type": "stream",
          "name": "stdout",
          "text": [
            "<class 'int'>\n",
            "<class 'str'>\n"
          ]
        }
      ]
    },
    {
      "cell_type": "code",
      "source": [
        "print((bool(0)))  \n",
        "print((bool(1)))  \n",
        "print((bool(3)))  \n",
        "print((bool(0.0001)))  \n",
        "print((bool(\"Raghu\")))  "
      ],
      "metadata": {
        "colab": {
          "base_uri": "https://localhost:8080/"
        },
        "id": "8lmekQHpKhxz",
        "outputId": "aeb7a793-46e4-4646-d9c5-5b70deed126f"
      },
      "execution_count": null,
      "outputs": [
        {
          "output_type": "stream",
          "name": "stdout",
          "text": [
            "False\n",
            "True\n",
            "True\n",
            "True\n",
            "True\n"
          ]
        }
      ]
    },
    {
      "cell_type": "code",
      "source": [
        "print(int(0.51))\n",
        "print(int(\"0\"))\n",
        "print(int(True))\n",
        "print(float(True))"
      ],
      "metadata": {
        "colab": {
          "base_uri": "https://localhost:8080/"
        },
        "id": "JiXT5RI3MFVK",
        "outputId": "77141b97-be93-4205-afc4-4ab72ef42870"
      },
      "execution_count": null,
      "outputs": [
        {
          "output_type": "stream",
          "name": "stdout",
          "text": [
            "0\n",
            "0\n",
            "1\n",
            "1.0\n"
          ]
        }
      ]
    },
    {
      "cell_type": "code",
      "source": [
        "xPos=5\n",
        "print(xPos ** 2)\n",
        "print(xPos // 2)\n",
        "print(xPos / 2)\n",
        "print(xPos % 2)\n"
      ],
      "metadata": {
        "colab": {
          "base_uri": "https://localhost:8080/"
        },
        "id": "Q5iB95jSPsQB",
        "outputId": "215cf436-cb6d-4e35-d16c-626a76bdedc7"
      },
      "execution_count": null,
      "outputs": [
        {
          "output_type": "stream",
          "name": "stdout",
          "text": [
            "25\n",
            "2\n",
            "2.5\n",
            "1\n"
          ]
        }
      ]
    },
    {
      "cell_type": "code",
      "source": [
        "fname=\"Raghu\"\n",
        "lname=\"praveen\"\n",
        "print(fname+\" \"+lname)"
      ],
      "metadata": {
        "colab": {
          "base_uri": "https://localhost:8080/"
        },
        "id": "r2fSwv98QAdT",
        "outputId": "7f2aece1-3ad4-4b94-91ab-55f4b12d756f"
      },
      "execution_count": null,
      "outputs": [
        {
          "output_type": "stream",
          "name": "stdout",
          "text": [
            "Raghu praveen\n"
          ]
        }
      ]
    },
    {
      "cell_type": "code",
      "source": [
        "#@title Raghu\n",
        "#Always True\n",
        "# > < >= <= == !=\n",
        "print(5==4)\n",
        "print(4!=4.0)\n",
        "print('a' == \"A\")"
      ],
      "metadata": {
        "colab": {
          "base_uri": "https://localhost:8080/"
        },
        "id": "UvMlwzzFRSXw",
        "outputId": "ba598389-aabc-45f2-8cbd-0eaef3478e1d"
      },
      "execution_count": null,
      "outputs": [
        {
          "output_type": "stream",
          "name": "stdout",
          "text": [
            "False\n",
            "False\n",
            "False\n"
          ]
        }
      ]
    },
    {
      "cell_type": "code",
      "source": [
        "is_true = True\n",
        "print(is_true)\n",
        "is_true = not is_true\n",
        "print(is_true)"
      ],
      "metadata": {
        "colab": {
          "base_uri": "https://localhost:8080/"
        },
        "id": "ryoHWZeRTRWv",
        "outputId": "c1f7299c-d5f2-4b69-ba41-a65296750594"
      },
      "execution_count": null,
      "outputs": [
        {
          "output_type": "stream",
          "name": "stdout",
          "text": [
            "True\n",
            "False\n"
          ]
        }
      ]
    },
    {
      "cell_type": "markdown",
      "source": [
        "Collections Start"
      ],
      "metadata": {
        "id": "19J4BoZAW2-h"
      }
    },
    {
      "cell_type": "code",
      "source": [
        "#Lists\n",
        "inventory = ['Sword','bread','boots']\n",
        "print(inventory)\n",
        "Sword = (inventory[0])\n",
        "inventory[1] = 'Apples'\n",
        "print(inventory)\n",
        "print(len(inventory))\n",
        "print(max(inventory))\n",
        "inventory[2]='Boots'\n",
        "print(inventory)\n",
        "print(max(inventory))\n",
        "inventory.append('Hat')\n",
        "print(inventory)\n",
        "inventory.insert(0,'Knife')\n",
        "print(inventory)\n",
        "inventory.pop() # last item is removed\n",
        "print(inventory)\n",
        "inventory.remove('Boots')\n",
        "print(inventory)\n",
        "inventory.pop(1)\n",
        "print(inventory)"
      ],
      "metadata": {
        "id": "2KU9d0b1RzKZ",
        "colab": {
          "base_uri": "https://localhost:8080/"
        },
        "outputId": "158e6359-c9ff-4f4b-e117-740fe9b0197a"
      },
      "execution_count": null,
      "outputs": [
        {
          "output_type": "stream",
          "name": "stdout",
          "text": [
            "['Sword', 'bread', 'boots']\n",
            "['Sword', 'Apples', 'boots']\n",
            "3\n",
            "boots\n",
            "['Sword', 'Apples', 'Boots']\n",
            "Sword\n",
            "['Sword', 'Apples', 'Boots', 'Hat']\n",
            "['Knife', 'Sword', 'Apples', 'Boots', 'Hat']\n",
            "['Knife', 'Sword', 'Apples', 'Boots']\n",
            "['Knife', 'Sword', 'Apples']\n",
            "['Knife', 'Apples']\n"
          ]
        }
      ]
    },
    {
      "cell_type": "code",
      "source": [
        "#2DimensionLists\n",
        "test_2DList = [[1,2,3,4],[1,2],[1,2,5]]\n",
        "print(test_2DList[2][2])\n",
        "test_2DList.append([1,2,5,8])\n",
        "test_2DList\n",
        "print(test_2DList)\n",
        "test_2DList[2].pop(0)\n",
        "print(test_2DList)"
      ],
      "metadata": {
        "colab": {
          "base_uri": "https://localhost:8080/"
        },
        "id": "MZvb-6NhaTC9",
        "outputId": "8ce50219-96a5-4cd6-bd28-5ba8054126b2"
      },
      "execution_count": null,
      "outputs": [
        {
          "output_type": "stream",
          "name": "stdout",
          "text": [
            "5\n",
            "[[1, 2, 3, 4], [1, 2], [1, 2, 5], [1, 2, 5, 8]]\n",
            "[[1, 2, 3, 4], [1, 2], [2, 5], [1, 2, 5, 8]]\n"
          ]
        }
      ]
    },
    {
      "cell_type": "code",
      "source": [
        "#Tuples\n",
        "item = (\"Raghu4\",'4',5,[\"k\",\"l\",7],'4')\n",
        "print(item.count('4')) # gives count\n",
        "print(item.index('4')) # gives first position\n",
        "item = (\"Praveen\")\n",
        "print(item)\n",
        "item.count('Praveen')\n"
      ],
      "metadata": {
        "colab": {
          "base_uri": "https://localhost:8080/"
        },
        "id": "xsUBNfU3brPu",
        "outputId": "957dbf44-69dc-4797-b6b0-56e479d074ec"
      },
      "execution_count": null,
      "outputs": [
        {
          "output_type": "stream",
          "name": "stdout",
          "text": [
            "2\n",
            "1\n",
            "Praveen\n"
          ]
        },
        {
          "output_type": "execute_result",
          "data": {
            "text/plain": [
              "1"
            ]
          },
          "metadata": {},
          "execution_count": 49
        }
      ]
    },
    {
      "cell_type": "code",
      "source": [
        "#Dict - KV Pair\n",
        "inventory = {'Raghu':'Speed','Praveen':'Expert'}\n",
        "print(inventory)\n",
        "inventory['Raghu'] = 'Quick'\n",
        "inventory['Quick'] = 'Swift'\n",
        "print(inventory['Praveen'])\n",
        "print(inventory.get('Praveen')) # key fails prog if no such Key exists, so get is best way to check\n",
        "print(inventory.keys())\n",
        "print(inventory.values())\n",
        "print(max(inventory))"
      ],
      "metadata": {
        "colab": {
          "base_uri": "https://localhost:8080/"
        },
        "id": "vDyWzZ3qfHTk",
        "outputId": "6261e9b7-a4a0-4119-825b-8bd8d762960b"
      },
      "execution_count": null,
      "outputs": [
        {
          "output_type": "stream",
          "name": "stdout",
          "text": [
            "{'Raghu': 'Speed', 'Praveen': 'Expert'}\n",
            "Expert\n",
            "Expert\n",
            "dict_keys(['Raghu', 'Praveen', 'Quick'])\n",
            "dict_values(['Quick', 'Expert', 'Swift'])\n",
            "Raghu\n"
          ]
        }
      ]
    },
    {
      "cell_type": "code",
      "source": [
        "#Ranges\n",
        "odd_range = range(1,21,2)\n",
        "even_range = range(0,21,2)\n",
        "print(odd_range[9])\n",
        "print(even_range[10])\n",
        "reversed_even = reversed(even_range)\n",
        "reversed_even = list(reversed_even)\n",
        "print(reversed_even)\n",
        "print(15 in reversed_even) # condition check "
      ],
      "metadata": {
        "colab": {
          "base_uri": "https://localhost:8080/"
        },
        "id": "wEih9RXOiR6C",
        "outputId": "069a3261-217f-4f03-b9fb-9f71bfb6551d"
      },
      "execution_count": null,
      "outputs": [
        {
          "output_type": "stream",
          "name": "stdout",
          "text": [
            "19\n",
            "20\n",
            "[20, 18, 16, 14, 12, 10, 8, 6, 4, 2, 0]\n",
            "False\n"
          ]
        }
      ]
    },
    {
      "cell_type": "markdown",
      "source": [
        "Conditonal Flow"
      ],
      "metadata": {
        "id": "S9SYtGNDn5Qc"
      }
    },
    {
      "cell_type": "code",
      "source": [
        "#if elfi\n",
        "var = 'asd'\n",
        "if var == 'r' or var == 'asd':\n",
        "  print(\"True\")\n",
        "elif var == 'f':\n",
        "  print(\"False\")\n",
        "else:\n",
        "  print(\"Invalid i/p\")"
      ],
      "metadata": {
        "colab": {
          "base_uri": "https://localhost:8080/"
        },
        "id": "jpG7WneBn8RB",
        "outputId": "66780c37-9f4b-4970-a009-51b0fc5f74a4"
      },
      "execution_count": null,
      "outputs": [
        {
          "output_type": "stream",
          "name": "stdout",
          "text": [
            "True\n"
          ]
        }
      ]
    },
    {
      "cell_type": "code",
      "source": [
        "# loops while - no set number of times - based on conditions\n",
        "\n",
        "x_pos= 1\n",
        "y_pos = 0\n",
        "enemy_pos = 3\n",
        "end_pos = 5\n",
        "while x_pos < end_pos:\n",
        "  x_pos+=1\n",
        "  print(x_pos)\n",
        "  if y_pos > 0:\n",
        "    continue\n",
        "  if x_pos == enemy_pos:\n",
        "    print(\"Collision\")\n",
        "    break\n",
        "print(\"Game Over\")\n"
      ],
      "metadata": {
        "colab": {
          "base_uri": "https://localhost:8080/"
        },
        "id": "l9LcWidwoWvl",
        "outputId": "ac614703-14ff-417f-eb86-28975a2ceb61"
      },
      "execution_count": null,
      "outputs": [
        {
          "output_type": "stream",
          "name": "stdout",
          "text": [
            "2\n",
            "3\n",
            "Collision\n",
            "Game Over\n"
          ]
        }
      ]
    },
    {
      "cell_type": "code",
      "source": [
        "#loops for - set number of times execution\n",
        "for var in inventory:\n",
        "  if var != 'Quick':\n",
        "    print(\"continue\")\n",
        "    continue\n",
        "  if var == 'Quick':\n",
        "    print(\"break\")\n",
        "    break\n",
        "  if var != 'Quick':\n",
        "    continue\n",
        "  print(var)\n",
        "  print(inventory[var])"
      ],
      "metadata": {
        "colab": {
          "base_uri": "https://localhost:8080/"
        },
        "id": "edRsh7YDpuqy",
        "outputId": "f2523333-e63a-4bcb-8d0a-552a8501e252"
      },
      "execution_count": null,
      "outputs": [
        {
          "output_type": "stream",
          "name": "stdout",
          "text": [
            "continue\n",
            "continue\n",
            "break\n"
          ]
        }
      ]
    },
    {
      "cell_type": "code",
      "source": [
        "var = 5\n",
        "def move():\n",
        "  global var\n",
        "  print(var)\n",
        "  var+=1\n",
        "  print(var)\n",
        "\n",
        "move()\n",
        "print(var)"
      ],
      "metadata": {
        "colab": {
          "base_uri": "https://localhost:8080/"
        },
        "id": "LudCWG5hGKde",
        "outputId": "2a993ebb-756e-491b-8f5d-01459c9d7770"
      },
      "execution_count": null,
      "outputs": [
        {
          "output_type": "stream",
          "name": "stdout",
          "text": [
            "5\n",
            "6\n",
            "6\n"
          ]
        }
      ]
    },
    {
      "cell_type": "code",
      "source": [
        "var = 5\n",
        "def move(positions=1):\n",
        "  global var\n",
        "  print(var)\n",
        "  var+=positions\n",
        "  print(var)\n",
        "\n",
        "move()\n",
        "move(5)"
      ],
      "metadata": {
        "colab": {
          "base_uri": "https://localhost:8080/"
        },
        "id": "Umzv1O2bH-KB",
        "outputId": "1fe8253e-8dc9-4122-907a-455e76d318d5"
      },
      "execution_count": null,
      "outputs": [
        {
          "output_type": "stream",
          "name": "stdout",
          "text": [
            "5\n",
            "6\n",
            "6\n",
            "11\n"
          ]
        }
      ]
    },
    {
      "cell_type": "code",
      "source": [
        "start_pos = 0\n",
        "end_pos = 10\n",
        "\n",
        "def move(x_pos = 0,by_amt=1):\n",
        "  global start_pos,end_pos\n",
        "  x_pos += by_amt\n",
        "  if x_pos < start_pos:\n",
        "    print(\"min reached!! setting to min\")\n",
        "    return start_pos # returning back min possible in range movement\n",
        "  elif x_pos> end_pos:\n",
        "    print(\"max reached!! setting to max\")\n",
        "    return end_pos # returning back max possible in range movement\n",
        "  return x_pos\n",
        "\n",
        "move()"
      ],
      "metadata": {
        "colab": {
          "base_uri": "https://localhost:8080/"
        },
        "id": "kmJYndc9Lzs5",
        "outputId": "9e3a4dbb-e8ad-42ec-ad32-3ff382599772"
      },
      "execution_count": null,
      "outputs": [
        {
          "output_type": "execute_result",
          "data": {
            "text/plain": [
              "1"
            ]
          },
          "metadata": {},
          "execution_count": 57
        }
      ]
    },
    {
      "cell_type": "markdown",
      "source": [
        "Classes"
      ],
      "metadata": {
        "id": "cAQQT8aYsx69"
      }
    },
    {
      "cell_type": "code",
      "source": [
        "class Employee:\n",
        "\n",
        "  def __init__(self, empid, empname, salary, titlegrade):  # constructor to initialise class\n",
        "    self.empid = empid\n",
        "    self.empname = empname\n",
        "    self.salary = salary\n",
        "    self.titlegrade = titlegrade\n",
        "  \n",
        "  def move(self,hikeamt):\n",
        "    self.salary += hikeamt\n",
        "    return self.salary\n",
        "  \n",
        "  def promote(self,grades):\n",
        "    self.titlegrade+=grades\n",
        "    if self.titlegrade <=0:\n",
        "      self.titlegrade=0\n",
        "  \n",
        "  def demote(self,grades):\n",
        "    self.titlegrade-=grades\n",
        "    if self.titlegrade <=0:\n",
        "      self.titlegrade=0\n",
        "\n",
        "  def check_is_still_emp(self):\n",
        "    return self.titlegrade > 0"
      ],
      "metadata": {
        "id": "n7A0P61Co5Yy"
      },
      "execution_count": null,
      "outputs": []
    },
    {
      "cell_type": "code",
      "source": [
        "e1 = Employee(1,\"Raghu\",250,25)\n",
        "print(type(e1)) # custom datat type created in class is now type"
      ],
      "metadata": {
        "colab": {
          "base_uri": "https://localhost:8080/"
        },
        "id": "60C95JHdsZkL",
        "outputId": "0fe6b92f-974a-4426-ca20-bf412014249c"
      },
      "execution_count": null,
      "outputs": [
        {
          "output_type": "stream",
          "name": "stdout",
          "text": [
            "<class '__main__.Employee'>\n"
          ]
        }
      ]
    },
    {
      "cell_type": "code",
      "source": [
        "print(e1.empname)\n",
        "e1.empname = 'RP'  # do not do this use methods to get set\n",
        "print(e1.empname)\n",
        "e1.promote(2)\n",
        "print(e1.titlegrade)\n",
        "e1.demote(1)\n",
        "print(e1.titlegrade)\n",
        "e1.move(2500)\n",
        "e1.salary"
      ],
      "metadata": {
        "colab": {
          "base_uri": "https://localhost:8080/"
        },
        "id": "GYV3pDl2ta82",
        "outputId": "2a9554c8-03b2-4844-ec38-ed1e61e76ea9"
      },
      "execution_count": null,
      "outputs": [
        {
          "output_type": "stream",
          "name": "stdout",
          "text": [
            "RP\n",
            "RP\n",
            "28\n",
            "27\n"
          ]
        },
        {
          "output_type": "execute_result",
          "data": {
            "text/plain": [
              "2750"
            ]
          },
          "metadata": {},
          "execution_count": 81
        }
      ]
    },
    {
      "cell_type": "code",
      "source": [
        "class Leader(Employee):\n",
        "  Speed = 1.25 # Static Variable\n",
        "\n",
        "  def __init__(self, empid, empname, salary, titlegrade, title):  # constructor to initialise class ## TITLE Is only for LEADER\n",
        "    super().__init__(empid, empname,salary, titlegrade)\n",
        "    self.min_grades = titlegrade-5\n",
        "    print(\"minimum grade possible for \"+ self.empname + \" is \" + str(self.min_grades))\n",
        "    self.salary = salary # check other way of assiging\n",
        "  \n",
        "  def demote(self,grades):\n",
        "    self.titlegrade-=grades\n",
        "    if self.titlegrade <=5:\n",
        "      self.titlegrade=self.min_grades  # cant demote a leader to employee less than 24 grade - policy\n",
        "\n",
        "  def check_is_still_emp(self):\n",
        "    return self.titlegrade > self.min_grades\n",
        "  \n",
        "  def speed_move(to_speed): # static function no need to put self\n",
        "    Leader.Speed = to_speed # static function so we can assign static variable to value\n",
        "\n"
      ],
      "metadata": {
        "id": "v1gPgPz3vnI3"
      },
      "execution_count": null,
      "outputs": []
    },
    {
      "cell_type": "code",
      "source": [
        "PRA = Leader(2, 'Praveen', 250000, 29, \"Manager\")\n",
        "PRAV = Leader(3,\"RAGHU\",25888,31,\"PM\")\n",
        "PRA.demote(2)\n",
        "PRAV.promote(3) #used super class function to promote with no hard rules\n",
        "print(\"After demoting \" + PRA.empname + \" tilegrade is \" + str(PRA.titlegrade))\n",
        "print(PRAV.empname + \" new tilegrade is \" + str(PRAV.titlegrade))\n",
        "e1.demote(30)\n",
        "e1.check_is_still_emp()\n",
        "print(PRAV.Speed)\n",
        "PRA.Speed = 2.5  # should not change static variable for specific instance, we can see in result that despite class static variable change is not impacted\n",
        "Leader.speed_move(2.4)\n",
        "print(\"set class varaible is \" + str(Leader.Speed))\n",
        "print(\"set instance static varaible of PRAV is \" + str(PRAV.Speed))\n",
        "print(\"set instance static varaible of PRA(updated with asignment) is \" + str(PRA.Speed))\n"
      ],
      "metadata": {
        "colab": {
          "base_uri": "https://localhost:8080/"
        },
        "id": "kPZl253Yxpqk",
        "outputId": "8065f073-39cf-490d-bccc-877bd52519df"
      },
      "execution_count": 142,
      "outputs": [
        {
          "output_type": "stream",
          "name": "stdout",
          "text": [
            "minimum grade possible for Praveen is 24\n",
            "minimum grade possible for RAGHU is 26\n",
            "After demoting Praveen tilegrade is 27\n",
            "RAGHU new tilegrade is 34\n",
            "2.4\n",
            "set class varaible is 2.4\n",
            "set instance static varaible of PRAV is 2.4\n",
            "set instance static varaible of PRA(updated with asignment) is 2.5\n"
          ]
        }
      ]
    },
    {
      "cell_type": "markdown",
      "source": [
        "Static functions and variables is covered in above example"
      ],
      "metadata": {
        "id": "Zx8SmgnL3j1X"
      }
    },
    {
      "cell_type": "code",
      "source": [
        "print(\"Basics Brushup\")"
      ],
      "metadata": {
        "id": "FeSd934B3ifa",
        "colab": {
          "base_uri": "https://localhost:8080/"
        },
        "outputId": "0773dd9f-0738-4025-c293-d22cfe8dd4b3"
      },
      "execution_count": 144,
      "outputs": [
        {
          "output_type": "stream",
          "name": "stdout",
          "text": [
            "Basics Brushup\n"
          ]
        }
      ]
    }
  ]
}